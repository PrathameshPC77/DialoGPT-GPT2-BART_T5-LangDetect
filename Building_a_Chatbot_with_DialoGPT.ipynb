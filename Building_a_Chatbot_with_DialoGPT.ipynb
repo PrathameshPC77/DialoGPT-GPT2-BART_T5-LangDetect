{
  "nbformat": 4,
  "nbformat_minor": 0,
  "metadata": {
    "colab": {
      "provenance": []
    },
    "kernelspec": {
      "name": "python3",
      "display_name": "Python 3"
    },
    "language_info": {
      "name": "python"
    }
  },
  "cells": [
    {
      "cell_type": "code",
      "execution_count": 4,
      "metadata": {
        "colab": {
          "base_uri": "https://localhost:8080/"
        },
        "id": "XT1kYePAg_6U",
        "outputId": "80050ace-2393-4bc1-8acd-927f2b5bea42"
      },
      "outputs": [
        {
          "output_type": "stream",
          "name": "stdout",
          "text": [
            "Chatbot: Hi! I'm here to chat with you. Type 'exit' to stop the conversation.\n",
            "You: hello, how are you?\n",
            "Chatbot: I'm good, how are you?\n",
            "You: im also fine!\n",
            "Chatbot: I'm glad to hear that!\n",
            "You: what is python?\n",
            "Chatbot: It's a language.\n",
            "You: exit\n",
            "Chatbot: Goodbye!\n"
          ]
        }
      ],
      "source": [
        "from transformers import AutoModelForCausalLM, AutoTokenizer\n",
        "import torch\n",
        "\n",
        "model = AutoModelForCausalLM.from_pretrained(\"microsoft/DialoGPT-medium\")\n",
        "tokenizer = AutoTokenizer.from_pretrained(\"microsoft/DialoGPT-medium\")\n",
        "\n",
        "if tokenizer.pad_token is None:\n",
        "    tokenizer.pad_token = tokenizer.eos_token\n",
        "\n",
        "def chat(input_text, chat_history_ids=None):\n",
        "    new_input_ids = tokenizer.encode(input_text + tokenizer.eos_token, return_tensors='pt')\n",
        "\n",
        "    bot_input_ids = new_input_ids if chat_history_ids is None else torch.cat([chat_history_ids, new_input_ids], dim=-1)\n",
        "\n",
        "    response_ids = model.generate(bot_input_ids, max_length=1000, pad_token_id=tokenizer.eos_token_id)\n",
        "\n",
        "    response = tokenizer.decode(response_ids[:, bot_input_ids.shape[-1]:][0], skip_special_tokens=True)\n",
        "\n",
        "    return response, response_ids\n",
        "\n",
        "chat_history_ids = None\n",
        "\n",
        "print(\"Chatbot: Hi! I'm here to chat with you. Type 'exit' to stop the conversation.\")\n",
        "\n",
        "while True:\n",
        "    user_input = input(\"You: \")\n",
        "\n",
        "    if user_input.lower() == 'exit':\n",
        "        print(\"Chatbot: Goodbye!\")\n",
        "        break\n",
        "\n",
        "    response, chat_history_ids = chat(user_input, chat_history_ids)\n",
        "\n",
        "    print(\"Chatbot:\", response)"
      ]
    },
    {
      "cell_type": "code",
      "source": [],
      "metadata": {
        "id": "98BTSsv-hG5H"
      },
      "execution_count": null,
      "outputs": []
    }
  ]
}