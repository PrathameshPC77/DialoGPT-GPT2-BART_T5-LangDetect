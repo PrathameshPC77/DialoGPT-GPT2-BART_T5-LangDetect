{
  "nbformat": 4,
  "nbformat_minor": 0,
  "metadata": {
    "colab": {
      "provenance": []
    },
    "kernelspec": {
      "name": "python3",
      "display_name": "Python 3"
    },
    "language_info": {
      "name": "python"
    }
  },
  "cells": [
    {
      "cell_type": "code",
      "execution_count": 6,
      "metadata": {
        "colab": {
          "base_uri": "https://localhost:8080/"
        },
        "id": "Byu6xBXrfEqq",
        "outputId": "fab7234c-97b2-42c9-e290-d90754f9c325"
      },
      "outputs": [
        {
          "output_type": "stream",
          "name": "stdout",
          "text": [
            "a software developer is someone who has a lot of experience with the Linux kernel. he's been working on Fedora for over 10 years and still runs an active role as CEO. now his current company will eventually work to run its own virtualization system from within systemd.\n"
          ]
        }
      ],
      "source": [
        "from transformers import T5ForConditionalGeneration, T5Tokenizer\n",
        "\n",
        "model = T5ForConditionalGeneration.from_pretrained(\"t5-small\")\n",
        "tokenizer = T5Tokenizer.from_pretrained(\"t5-small\")\n",
        "\n",
        "def summarize(text):\n",
        "    inputs = tokenizer(\"summarize: \" + text, return_tensors=\"pt\", max_length=512, truncation=True)\n",
        "    summary_ids = model.generate(\n",
        "        inputs[\"input_ids\"],\n",
        "        max_length=150,\n",
        "        min_length=50,\n",
        "        length_penalty=2.0,\n",
        "        num_beams=5,\n",
        "        early_stopping=True\n",
        "    )\n",
        "    return tokenizer.decode(summary_ids[0], skip_special_tokens=True)\n",
        "\n",
        "long_text = (\n",
        "    '''A software developer is someone who has a lot of experience with the Linux kernel.\n",
        "    He's been working on Fedora for over 10 years and still runs an active role as CEO,\n",
        "    but he says now that his current company will eventually work to run its own virtualization system from within systemd.\n",
        "    His new job description reads like this: \"I'll be responsible in my spare time running various parts or processes inside /etc/initrd.\"\n",
        "    The idea behind it was simple enough; if you want to use your initramfs (or whatever) directly outside of GNOME Shell then there are no problems at all!\n",
        "    But what about using something else? Well I've seen some people say they don't know how much more complex things can get when one uses another'''\n",
        ")\n",
        "\n",
        "print(summarize(long_text))"
      ]
    },
    {
      "cell_type": "code",
      "source": [],
      "metadata": {
        "id": "_Bxg_2oBfJM_"
      },
      "execution_count": null,
      "outputs": []
    }
  ]
}