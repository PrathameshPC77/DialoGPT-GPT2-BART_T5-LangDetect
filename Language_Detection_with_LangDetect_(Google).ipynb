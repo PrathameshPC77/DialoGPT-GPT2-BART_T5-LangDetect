{
  "nbformat": 4,
  "nbformat_minor": 0,
  "metadata": {
    "colab": {
      "provenance": []
    },
    "kernelspec": {
      "name": "python3",
      "display_name": "Python 3"
    },
    "language_info": {
      "name": "python"
    }
  },
  "cells": [
    {
      "cell_type": "code",
      "source": [
        "!pip install langdetect"
      ],
      "metadata": {
        "id": "rvl5d3i9t357",
        "outputId": "5d2efbb2-694e-45b9-8d7d-fcab08031bb3",
        "colab": {
          "base_uri": "https://localhost:8080/"
        }
      },
      "execution_count": 4,
      "outputs": [
        {
          "output_type": "stream",
          "name": "stdout",
          "text": [
            "Requirement already satisfied: langdetect in /usr/local/lib/python3.10/dist-packages (1.0.9)\n",
            "Requirement already satisfied: six in /usr/local/lib/python3.10/dist-packages (from langdetect) (1.16.0)\n"
          ]
        }
      ]
    },
    {
      "cell_type": "code",
      "source": [
        "from langdetect import detect, DetectorFactory\n",
        "from langdetect.lang_detect_exception import LangDetectException\n",
        "\n",
        "DetectorFactory.seed = 0\n",
        "\n",
        "def detect_language(text):\n",
        "    try:\n",
        "        language = detect(text)\n",
        "        return language\n",
        "    except LangDetectException:\n",
        "        return \"Could not detect language\"\n",
        "\n",
        "text = \"हे मराठी वाक्य आहे.\"\n",
        "detected_language = detect_language(text)\n",
        "print(f\"Detected Language: {detected_language}\")"
      ],
      "metadata": {
        "colab": {
          "base_uri": "https://localhost:8080/"
        },
        "id": "VsjNTEwCfgr2",
        "outputId": "0f0fe825-fcd0-4c1c-ad22-f406ecf61a42"
      },
      "execution_count": 5,
      "outputs": [
        {
          "output_type": "stream",
          "name": "stdout",
          "text": [
            "Detected Language: mr\n"
          ]
        }
      ]
    },
    {
      "cell_type": "code",
      "source": [
        "from langdetect import detect_langs\n",
        "\n",
        "text = \"This is an English sentence.\"\n",
        "languages = detect_langs(text)\n",
        "print(languages)"
      ],
      "metadata": {
        "colab": {
          "base_uri": "https://localhost:8080/"
        },
        "id": "9N8HbpNtfWqQ",
        "outputId": "22129223-3729-4121-f0ab-6e6e827b2aaa"
      },
      "execution_count": 6,
      "outputs": [
        {
          "output_type": "stream",
          "name": "stdout",
          "text": [
            "[en:0.9999965199539704]\n"
          ]
        }
      ]
    },
    {
      "cell_type": "code",
      "source": [],
      "metadata": {
        "id": "pCE0UohsfeDt"
      },
      "execution_count": null,
      "outputs": []
    }
  ]
}